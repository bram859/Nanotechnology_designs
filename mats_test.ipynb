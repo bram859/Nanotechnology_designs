{
 "cells": [
  {
   "cell_type": "code",
   "execution_count": 4,
   "metadata": {},
   "outputs": [],
   "source": [
    "import numpy as np"
   ]
  },
  {
   "cell_type": "code",
   "execution_count": 14,
   "metadata": {},
   "outputs": [
    {
     "name": "stdout",
     "output_type": "stream",
     "text": [
      "[[[  2.           2.        ]\n",
      "  [  2.5          4.        ]]\n",
      "\n",
      " [[ 77.           2.        ]\n",
      "  [ 77.7          4.8       ]]\n",
      "\n",
      " [[152.           2.        ]\n",
      "  [152.98         5.92      ]]\n",
      "\n",
      " [[227.           2.        ]\n",
      "  [228.372        7.488     ]]\n",
      "\n",
      " [[302.           2.        ]\n",
      "  [303.9208       9.6832    ]]\n",
      "\n",
      " [[377.           2.        ]\n",
      "  [379.68912     12.75648   ]]\n",
      "\n",
      " [[452.           2.        ]\n",
      "  [455.764768    17.059072  ]]\n",
      "\n",
      " [[527.           2.        ]\n",
      "  [532.2706752   23.0827008 ]]\n",
      "\n",
      " [[602.           2.        ]\n",
      "  [609.37894528  31.51578112]]]\n"
     ]
    }
   ],
   "source": [
    "#we want 9 sizes with 6 distances and 6 widths\n",
    "#9 sizes go with a factor of 1.4\n",
    "N = 9 #number of sizes per row\n",
    "middle_coor = np.zeros((N, 2, 2))\n",
    "start = np.array((2,2))\n",
    "dx = 75\n",
    "for i in range(9):\n",
    "    for j in range(2):\n",
    "        if j == 0:\n",
    "            middle_coor[i,j, :] = start+np.array((dx*i,0.0))\n",
    "        else:\n",
    "            middle_coor[i,j,:] = start+np.array((dx*i,0.0)) + np.array((0.5*1.4**i,2*1.4**i))\n",
    "print(middle_coor)"
   ]
  },
  {
   "cell_type": "code",
   "execution_count": null,
   "metadata": {},
   "outputs": [],
   "source": []
  }
 ],
 "metadata": {
  "kernelspec": {
   "display_name": "Python 3",
   "language": "python",
   "name": "python3"
  },
  "language_info": {
   "codemirror_mode": {
    "name": "ipython",
    "version": 3
   },
   "file_extension": ".py",
   "mimetype": "text/x-python",
   "name": "python",
   "nbconvert_exporter": "python",
   "pygments_lexer": "ipython3",
   "version": "3.13.2"
  }
 },
 "nbformat": 4,
 "nbformat_minor": 2
}
