{
 "cells": [
  {
   "cell_type": "markdown",
   "metadata": {},
   "source": [
    "# Design creation"
   ]
  },
  {
   "cell_type": "markdown",
   "metadata": {},
   "source": [
    "# test function first given by chat"
   ]
  },
  {
   "cell_type": "code",
   "execution_count": null,
   "metadata": {},
   "outputs": [
    {
     "name": "stderr",
     "output_type": "stream",
     "text": [
      "/var/folders/pr/6q_l_1zj24jd7vbk3hccwh3h0000gn/T/ipykernel_2491/590761476.py:39: DeprecationWarning: [GDSPY] Use of the global library is deprecated.  Pass LayoutViewer a GdsLibrary instance.\n",
      "  gdspy.LayoutViewer()\n",
      "2025-04-01 15:32:55.802 python[2491:8917967] +[IMKClient subclass]: chose IMKClient_Modern\n",
      "2025-04-01 15:32:55.802 python[2491:8917967] +[IMKInputSession subclass]: chose IMKInputSession_Modern\n"
     ]
    },
    {
     "data": {
      "text/plain": [
       "<gdspy.viewer.LayoutViewer object .!layoutviewer>"
      ]
     },
     "execution_count": 1,
     "metadata": {},
     "output_type": "execute_result"
    }
   ],
   "source": [
    "import gdspy\n",
    "\n",
    "# Initialize GDS library and a cell\n",
    "lib = gdspy.GdsLibrary()\n",
    "cell = lib.new_cell('RECT_GRID')\n",
    "\n",
    "# Chip size in microns (2 mm × 3 mm)\n",
    "chip_width = 2000    # µm\n",
    "chip_height = 3000   # µm\n",
    "\n",
    "# Rectangle size and spacing in µm\n",
    "rect_width = 0.5\n",
    "rect_height = 4\n",
    "spacing = 0.5  # spacing between rectangles\n",
    "\n",
    "# Calculate total width of 3 rectangles + spacing\n",
    "total_pattern_width = 3 * rect_width + 2 * spacing\n",
    "\n",
    "# Positioning: center pattern on the chip\n",
    "x_start = (chip_width - total_pattern_width) / 2\n",
    "y_start = (chip_height - rect_height) / 2\n",
    "\n",
    "# Draw 3 rectangles\n",
    "for i in range(3):\n",
    "    x0 = x_start + i * (rect_width + spacing)\n",
    "    y0 = y_start\n",
    "    rect = gdspy.Rectangle((x0, y0), (x0 + rect_width, y0 + rect_height),layer=1)\n",
    "    cell.add(rect)\n",
    "\n",
    "# Add chip boundary for reference (optional)\n",
    "chip_border = gdspy.Rectangle((0, 0), (chip_width, chip_height), layer=99)\n",
    "cell.add(chip_border)\n",
    "\n",
    "# Save to GDS\n",
    "lib.write_gds('3_rectangles_on_2x3mm_chip.gds')\n",
    "\n",
    "# View the layout (optional)\n",
    "gdspy.LayoutViewer()\n"
   ]
  },
  {
   "cell_type": "markdown",
   "metadata": {},
   "source": []
  },
  {
   "cell_type": "markdown",
   "metadata": {},
   "source": [
    "# Own implementation:"
   ]
  },
  {
   "cell_type": "code",
   "execution_count": 1,
   "metadata": {},
   "outputs": [],
   "source": [
    "# import libraries\n",
    "import numpy as np\n",
    "import gdspy"
   ]
  },
  {
   "cell_type": "code",
   "execution_count": 2,
   "metadata": {},
   "outputs": [],
   "source": [
    "# intialise the sizes of all components\n",
    "# Chip size in microns (2 mm × 3 mm)\n",
    "chip_width = 3000    # µm\n",
    "chip_height = 2000   # µm\n",
    "\n",
    "# Sizes for the primary lines\n",
    "rect_width = np.array([0.5,0.7,1,1.4,1.9,2.7,3.8,5.3,7.4]) # 9 values\n",
    "rect_height = np.array([ 4. ,  5.6,  7.8, 10.9, 15.3, 21.4, 30. , 42. , 58.8]) # also for the auxillary lines\n",
    "\n",
    "# Sizes for the auxilarray lines\n",
    "dist_aux = np.array([0.5,1,1.5,2,2.5,3])\n",
    "side_line_width = np.array([0.5,1,1.5,2,2.5,3])\n",
    "labels = np.array(['A' 'B' 'C' 'D' 'E' 'F' 'G' 'H' 'I' 'J' 'K' 'L' 'M' 'N' 'O' 'P' 'Q' 'R' 'S' 'T' 'U' 'V' 'W' 'X' 'Y' 'Z' 'AA' 'BB' 'CC' 'DD' 'EE' 'FF' 'GG' 'HH' 'II' 'JJ'])\n",
    "\n",
    "# Sizes for the plotting of the arrays:\n",
    "dist_primary_horizontal_array = np.array([20,30,30,60,60,100,120,150,200]) # 9 values\n",
    "dist_primary_vertical = 155\n",
    "dist_primary_horizontal_column = 1000\n",
    "\n",
    "# start of the drawing:\n",
    "x0 = 20\n",
    "y0 = 20"
   ]
  },
  {
   "cell_type": "code",
   "execution_count": 4,
   "metadata": {},
   "outputs": [
    {
     "name": "stderr",
     "output_type": "stream",
     "text": [
      "/var/folders/pr/6q_l_1zj24jd7vbk3hccwh3h0000gn/T/ipykernel_3736/2132404848.py:42: DeprecationWarning: [GDSPY] Use of the global library is deprecated.  Pass LayoutViewer a GdsLibrary instance.\n",
      "  gdspy.LayoutViewer()\n",
      "2025-04-01 16:43:34.095 python[3736:8976822] +[IMKClient subclass]: chose IMKClient_Modern\n",
      "2025-04-01 16:43:34.095 python[3736:8976822] +[IMKInputSession subclass]: chose IMKInputSession_Modern\n"
     ]
    },
    {
     "data": {
      "text/plain": [
       "<gdspy.viewer.LayoutViewer object .!layoutviewer>"
      ]
     },
     "execution_count": 4,
     "metadata": {},
     "output_type": "execute_result"
    }
   ],
   "source": [
    "# create the canvas and draw the rectangles:\n",
    "# Initialize GDS library and a cell\n",
    "lib = gdspy.GdsLibrary()\n",
    "cell = lib.new_cell('RECT_GRID')\n",
    "\n",
    "x = x0\n",
    "y = y0\n",
    "\n",
    "# iterate over all widths of the auxillary lines\n",
    "for i in range(len(side_line_width)):\n",
    "\n",
    "    # iterate over all 6 values of the distance between the primary and auxillary line\n",
    "    for j in range(len(dist_aux)):\n",
    "            \n",
    "        # iterate over all 9 values of the width of the rectangle\n",
    "        for k in range(len(rect_width)):\n",
    "            \n",
    "            x = x0 + sum(dist_primary_horizontal_array[:k])\n",
    "\n",
    "            rect_primary = gdspy.Rectangle((x, y), (x + rect_width[k], y + rect_height[k]),layer=1)\n",
    "            cell.add(rect_primary)\n",
    "\n",
    "        # check if the height is over the top of the chip size\n",
    "        if y < 1800:\n",
    "            y = y + dist_primary_vertical\n",
    "        else:   \n",
    "            x0 = x0 + dist_primary_horizontal_column\n",
    "            y = y0\n",
    "            \n",
    "            \n",
    "            \n",
    "\n",
    "\n",
    "# Add chip boundary for reference (optional)\n",
    "chip_border = gdspy.Rectangle((0, 0), (chip_width, chip_height), layer=99)\n",
    "cell.add(chip_border)\n",
    "\n",
    "# Save to GDS\n",
    "lib.write_gds('3_rectangles_on_2x3mm_chip.gds')\n",
    "\n",
    "# View the layout (optional)\n",
    "gdspy.LayoutViewer()\n"
   ]
  },
  {
   "cell_type": "code",
   "execution_count": null,
   "metadata": {},
   "outputs": [],
   "source": []
  }
 ],
 "metadata": {
  "kernelspec": {
   "display_name": "Development",
   "language": "python",
   "name": "python3"
  },
  "language_info": {
   "codemirror_mode": {
    "name": "ipython",
    "version": 3
   },
   "file_extension": ".py",
   "mimetype": "text/x-python",
   "name": "python",
   "nbconvert_exporter": "python",
   "pygments_lexer": "ipython3",
   "version": "3.10.14"
  }
 },
 "nbformat": 4,
 "nbformat_minor": 2
}
