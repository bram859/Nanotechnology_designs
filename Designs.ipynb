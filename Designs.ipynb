{
 "cells": [
  {
   "cell_type": "markdown",
   "metadata": {},
   "source": [
    "# Design creation"
   ]
  },
  {
   "cell_type": "code",
   "execution_count": null,
   "metadata": {},
   "outputs": [],
   "source": [
    "import numpy as np\n",
    "import gdspy\n",
    "\n",
    "# Initialize GDS library and a cell\n",
    "lib = gdspy.GdsLibrary()\n",
    "cell = lib.new_cell('RECT_GRID')\n",
    "\n",
    "# Chip size in microns (2 mm × 3 mm)\n",
    "chip_width = 2000    # µm\n",
    "chip_height = 3000   # µm\n",
    "\n",
    "# Rectangle size and spacing in µm\n",
    "rect_width = 0.5\n",
    "rect_height = 4\n",
    "spacing = 0.5  # spacing between rectangles\n",
    "\n",
    "# Calculate total width of 3 rectangles + spacing\n",
    "total_pattern_width = 3 * rect_width + 2 * spacing\n",
    "\n",
    "# Positioning: center pattern on the chip\n",
    "x_start = (chip_width - total_pattern_width) / 2\n",
    "y_start = (chip_height - rect_height) / 2\n",
    "\n",
    "# Draw 3 rectangles\n",
    "for i in range(3):\n",
    "    x0 = x_start + i * (rect_width + spacing)\n",
    "    y0 = y_start\n",
    "    rect = gdspy.Rectangle((x0, y0), (x0 + rect_width, y0 + rect_height))\n",
    "    cell.add(rect)\n",
    "\n",
    "# Add chip boundary for reference (optional)\n",
    "chip_border = gdspy.Rectangle((0, 0), (chip_width, chip_height), layer=99)\n",
    "cell.add(chip_border)\n",
    "\n",
    "# Save to GDS\n",
    "lib.write_gds('3_rectangles_on_2x3mm_chip.gds')\n",
    "\n",
    "# View the layout (optional)\n",
    "gdspy.LayoutViewer()"
   ]
  },
  {
   "cell_type": "markdown",
   "metadata": {},
   "source": []
  }
 ],
 "metadata": {
  "kernelspec": {
   "display_name": "Development",
   "language": "python",
   "name": "python3"
  },
  "language_info": {
   "codemirror_mode": {
    "name": "ipython",
    "version": 3
   },
   "file_extension": ".py",
   "mimetype": "text/x-python",
   "name": "python",
   "nbconvert_exporter": "python",
   "pygments_lexer": "ipython3",
   "version": "3.10.14"
  }
 },
 "nbformat": 4,
 "nbformat_minor": 2
}
